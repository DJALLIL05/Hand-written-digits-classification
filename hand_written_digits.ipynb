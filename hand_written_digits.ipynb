{
  "nbformat": 4,
  "nbformat_minor": 0,
  "metadata": {
    "colab": {
      "name": "hand written digits",
      "provenance": [],
      "collapsed_sections": [],
      "authorship_tag": "ABX9TyNjo9s5jz49bCt2TlCv+SfP",
      "include_colab_link": true
    },
    "kernelspec": {
      "name": "python3",
      "display_name": "Python 3"
    }
  },
  "cells": [
    {
      "cell_type": "markdown",
      "metadata": {
        "id": "view-in-github",
        "colab_type": "text"
      },
      "source": [
        "<a href=\"https://colab.research.google.com/github/DJALLIL05/Predicting-Customer-Behavior/blob/main/hand_written_digits.ipynb\" target=\"_parent\"><img src=\"https://colab.research.google.com/assets/colab-badge.svg\" alt=\"Open In Colab\"/></a>"
      ]
    },
    {
      "cell_type": "markdown",
      "metadata": {
        "id": "hYTVckKBio1i"
      },
      "source": [
        "## Hand written digits detection using artificial neural networks"
      ]
    },
    {
      "cell_type": "code",
      "metadata": {
        "id": "iblbpj1tgY3V"
      },
      "source": [
        "import tensorflow as tf\n",
        "# instantiate mnist dataset object\n",
        "mnist = tf.keras.datasets.mnist # 28x28 images of hand written digits 0-9"
      ],
      "execution_count": null,
      "outputs": []
    },
    {
      "cell_type": "code",
      "metadata": {
        "id": "NfF1vBgFg35u"
      },
      "source": [
        "# loading the dataset\n",
        "(X_train, y_train), (X_test, y_test) = mnist.load_data()\n",
        "#data normalization\n",
        "X_train = tf.keras.utils.normalize(X_train, axis = 1)\n",
        "X_test= tf.keras.utils.normalize(X_test, axis = 1)"
      ],
      "execution_count": null,
      "outputs": []
    },
    {
      "cell_type": "code",
      "metadata": {
        "id": "lXczA45pilFA",
        "outputId": "23de2161-4316-4b08-9ef6-1b68816622f8",
        "colab": {
          "base_uri": "https://localhost:8080/",
          "height": 374
        }
      },
      "source": [
        "import matplotlib.pyplot as plt\n",
        "plt.rcParams['figure.figsize'] = (10, 6)\n",
        "plt.imshow(X_train[0], cmap = plt.cm.binary)\n",
        "plt.show()"
      ],
      "execution_count": null,
      "outputs": [
        {
          "output_type": "display_data",
          "data": {
            "image/png": "[encoded data removed]",
            "text/plain": [
              "<Figure size 720x432 with 1 Axes>"
            ]
          },
          "metadata": {
            "tags": [],
            "needs_background": "light"
          }
        }
      ]
    },
    {
      "cell_type": "code",
      "metadata": {
        "id": "ogXDYY_YjjEs",
        "outputId": "74c2b667-4c08-4bec-f9c6-220120338018",
        "colab": {
          "base_uri": "https://localhost:8080/",
          "height": 136
        }
      },
      "source": [
        "model = tf.keras.models.Sequential()\n",
        "# flatten means to make a vector of the image pixels\n",
        "model.add(tf.keras.layers.Flatten())\n",
        "model.add(tf.keras.layers.Dense(128, activation = tf.nn.relu))\n",
        "model.add(tf.keras.layers.Dense(128, activation = tf.nn.relu))\n",
        "model.add(tf.keras.layers.Dense(10, activation = tf.nn.softmax))\n",
        "model.compile(optimizer = 'adam',\n",
        "              loss = 'sparse_categorical_crossentropy',\n",
        "              metrics = ['accuracy'])\n",
        "model.fit(X_train, y_train, epochs = 3)"
      ],
      "execution_count": null,
      "outputs": [
        {
          "output_type": "stream",
          "text": [
            "Epoch 1/3\n",
            "1875/1875 [==============================] - 4s 2ms/step - loss: 0.2641 - accuracy: 0.9244\n",
            "Epoch 2/3\n",
            "1875/1875 [==============================] - 4s 2ms/step - loss: 0.1077 - accuracy: 0.9669\n",
            "Epoch 3/3\n",
            "1875/1875 [==============================] - 4s 2ms/step - loss: 0.0734 - accuracy: 0.9765\n"
          ],
          "name": "stdout"
        },
        {
          "output_type": "execute_result",
          "data": {
            "text/plain": [
              "<tensorflow.python.keras.callbacks.History at 0x7f9a25bb35c0>"
            ]
          },
          "metadata": {
            "tags": []
          },
          "execution_count": 6
        }
      ]
    },
    {
      "cell_type": "code",
      "metadata": {
        "id": "XDkniDk_sLHY",
        "outputId": "8d7eefbd-d5e7-44a4-e712-07ef1cbb7649",
        "colab": {
          "base_uri": "https://localhost:8080/",
          "height": 51
        }
      },
      "source": [
        "val_loss, val_acc = model.evaluate(X_test, y_test)\n",
        "print(val_acc, val_loss)"
      ],
      "execution_count": null,
      "outputs": [
        {
          "output_type": "stream",
          "text": [
            "313/313 [==============================] - 0s 1ms/step - loss: 0.0986 - accuracy: 0.9682\n",
            "0.9682000279426575 0.09855138510465622\n"
          ],
          "name": "stdout"
        }
      ]
    },
    {
      "cell_type": "code",
      "metadata": {
        "id": "tjNs1xXWssZZ",
        "outputId": "76a6eb3a-ac38-46f5-d56e-08023e2bb13f",
        "colab": {
          "base_uri": "https://localhost:8080/",
          "height": 156
        }
      },
      "source": [
        "model.save('hand_written_digits')"
      ],
      "execution_count": null,
      "outputs": [
        {
          "output_type": "stream",
          "text": [
            "WARNING:tensorflow:From /usr/local/lib/python3.6/dist-packages/tensorflow/python/training/tracking/tracking.py:111: Model.state_updates (from tensorflow.python.keras.engine.training) is deprecated and will be removed in a future version.\n",
            "Instructions for updating:\n",
            "This property should not be used in TensorFlow 2.0, as updates are applied automatically.\n",
            "WARNING:tensorflow:From /usr/local/lib/python3.6/dist-packages/tensorflow/python/training/tracking/tracking.py:111: Layer.updates (from tensorflow.python.keras.engine.base_layer) is deprecated and will be removed in a future version.\n",
            "Instructions for updating:\n",
            "This property should not be used in TensorFlow 2.0, as updates are applied automatically.\n",
            "INFO:tensorflow:Assets written to: hand_written_digits/assets\n"
          ],
          "name": "stdout"
        }
      ]
    },
    {
      "cell_type": "code",
      "metadata": {
        "id": "kI7acJIXtAg8"
      },
      "source": [
        "#new_model = tf.keras.models.load_model('hand_written_digits')"
      ],
      "execution_count": null,
      "outputs": []
    },
    {
      "cell_type": "code",
      "metadata": {
        "id": "6VLmGCwVtO0-"
      },
      "source": [
        "predictions = model.predict(X_test)"
      ],
      "execution_count": null,
      "outputs": []
    },
    {
      "cell_type": "code",
      "metadata": {
        "id": "T0Rnw5sstUkv",
        "outputId": "54af8588-09bf-4ec4-c3a3-c4bd359c7dbe",
        "colab": {
          "base_uri": "https://localhost:8080/",
          "height": 238
        }
      },
      "source": [
        "print(predictions)"
      ],
      "execution_count": null,
      "outputs": [
        {
          "output_type": "stream",
          "text": [
            "[[6.1747224e-10 2.4911512e-07 4.2132738e-06 ... 9.9999249e-01\n",
            "  2.9536793e-08 7.1732565e-08]\n",
            " [1.2964975e-07 9.8817385e-05 9.9989474e-01 ... 1.0241570e-08\n",
            "  5.1786213e-07 3.5323225e-10]\n",
            " [9.7407991e-08 9.9958819e-01 3.6757538e-05 ... 4.4968641e-05\n",
            "  3.0512924e-04 8.6838423e-07]\n",
            " ...\n",
            " [2.4356655e-08 4.6796877e-08 2.5818872e-07 ... 1.2157476e-05\n",
            "  1.4084666e-05 8.0482212e-05]\n",
            " [6.5833039e-05 3.0730034e-06 3.7048130e-06 ... 4.5792487e-07\n",
            "  6.7912708e-03 1.8965015e-07]\n",
            " [1.0721910e-04 6.5034243e-08 6.6448898e-05 ... 1.3156691e-10\n",
            "  3.6837591e-07 6.4041004e-08]]\n"
          ],
          "name": "stdout"
        }
      ]
    },
    {
      "cell_type": "code",
      "metadata": {
        "id": "hNtR3it4tXeq"
      },
      "source": [
        ""
      ],
      "execution_count": null,
      "outputs": []
    }
  ]
}